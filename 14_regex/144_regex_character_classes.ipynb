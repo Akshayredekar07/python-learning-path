{
 "cells": [
  {
   "cell_type": "markdown",
   "metadata": {},
   "source": [
    "### **Important Functions of the `re` Module**\n",
    "\n",
    "The `re` module in Python provides regular expression matching operations. Here's a list of some important functions:\n",
    "\n",
    "1.  **`match()`:** Attempts to match the pattern at the *beginning* of the string.\n",
    "\n",
    "2.  **`fullmatch()`:** Attempts to match the *entire* string against the pattern.\n",
    "\n",
    "3.  **`search()`:** Searches for the first occurrence of the pattern anywhere in the string.\n",
    "\n",
    "4.  **`findall()`:** Returns a list of all non-overlapping matches in the string.\n",
    "\n",
    "5.  **`finditer()`:** Returns an iterator yielding match objects for all non-overlapping matches.\n",
    "\n",
    "6.  **`sub()`:** Replaces one or more occurrences of the pattern with a replacement string.\n",
    "\n",
    "7.  **`subn()`:** Similar to `sub()`, but also returns the number of substitutions made.\n",
    "\n",
    "8.  **`split()`:** Splits the string by occurrences of the pattern.\n",
    "\n",
    "9.  **`compile()`:** Compiles a regular expression pattern into a regex object, which can be used for matching using its `match()`, `search()` and other methods. This is useful for efficiency if the same pattern is used multiple times."
   ]
  },
  {
   "cell_type": "markdown",
   "metadata": {},
   "source": [
    "#### 1. `match()`\n",
    "\n",
    "The `match()` function from Python's `re` module is used to check if a given pattern is present at the *beginning* of a target string.\n",
    "\n",
    "*   If a match is found at the beginning of the string, the function returns a Match object.\n",
    "*   If no match is found at the beginning, the function returns `None`.\n",
    "\n",
    "**Match Object Methods:**\n",
    "\n",
    "If a match is found (and a Match object is returned), you can use the following methods on the Match object (let's call it `m`):\n",
    "\n",
    "*   **`m.start()`:** Returns the starting index of the match within the string (always 0 for `match()` as it matches from the beginning).\n",
    "*   **`m.end()`:** Returns the ending index + 1 of the match.\n",
    "*   **`m.group()`:** Returns the matched string.\n",
    "\n"
   ]
  },
  {
   "cell_type": "code",
   "execution_count": 2,
   "metadata": {},
   "outputs": [],
   "source": [
    "import re"
   ]
  },
  {
   "cell_type": "code",
   "execution_count": 4,
   "metadata": {},
   "outputs": [
    {
     "name": "stdout",
     "output_type": "stream",
     "text": [
      "Target string start with asdf\n"
     ]
    }
   ],
   "source": [
    "p=input(\"Enter some pattern to check: \")\n",
    "m=re.match(p, \"abcdefgh\")\n",
    "if m is not None:\n",
    "    print(f\"Target string start with {m.group()}\")\n",
    "else:\n",
    "    print(f\"Target string start with {p}\")\n"
   ]
  },
  {
   "cell_type": "code",
   "execution_count": 5,
   "metadata": {},
   "outputs": [
    {
     "name": "stdout",
     "output_type": "stream",
     "text": [
      "Match found in string1: abc, start: 0, end: 3\n",
      "No match found in string2\n"
     ]
    }
   ],
   "source": [
    "import re\n",
    "\n",
    "string1 = \"abcdefg\"\n",
    "string2 = \"xyzabc\"\n",
    "\n",
    "pattern = \"abc\"\n",
    "\n",
    "match1 = re.match(pattern, string1)\n",
    "match2 = re.match(pattern, string2)\n",
    "\n",
    "if match1:\n",
    "    print(f\"Match found in string1: {match1.group()}, start: {match1.start()}, end: {match1.end()}\")\n",
    "else:\n",
    "    print(\"No match found in string1\")\n",
    "\n",
    "if match2:\n",
    "    print(f\"Match found in string2: {match2.group()}, start: {match2.start()}, end: {match2.end()}\")\n",
    "else:\n",
    "    print(\"No match found in string2\")"
   ]
  },
  {
   "cell_type": "code",
   "execution_count": 2,
   "metadata": {},
   "outputs": [
    {
     "name": "stdout",
     "output_type": "stream",
     "text": [
      "9970099092\n",
      "Valid 10-digit mobile number\n"
     ]
    }
   ],
   "source": [
    "import re\n",
    "num=input(\"Enter mobile number to validate: \")\n",
    "pattern='[6-9][0-9]{9}'\n",
    "match_p=re.fullmatch(pattern, num)\n",
    "if match_p is not None:\n",
    "    print(num)\n",
    "    print(\"Valid 10-digit mobile number\")\n",
    "else:\n",
    "    print(num)\n",
    "    print(\"Invalid 10-digit mobile number\")\n"
   ]
  },
  {
   "cell_type": "code",
   "execution_count": 8,
   "metadata": {},
   "outputs": [
    {
     "name": "stdout",
     "output_type": "stream",
     "text": [
      "Invalid 10-digit mobile number\n"
     ]
    }
   ],
   "source": [
    "num='99009900'\n",
    "pattern='[6-9][0-9]{9}'\n",
    "match_p=re.fullmatch(pattern, num)\n",
    "if match_p is not None:\n",
    "    print(\"Valid 10-digit mobile number\")\n",
    "else:\n",
    "    print(\"Invalid 10-digit mobile number\")"
   ]
  },
  {
   "cell_type": "code",
   "execution_count": 3,
   "metadata": {},
   "outputs": [
    {
     "name": "stdout",
     "output_type": "stream",
     "text": [
      "Invalid 8-digit mobile number\n"
     ]
    }
   ],
   "source": [
    "num='56756756'\n",
    "pattern='[6-9][0-9]{9}'\n",
    "match_p=re.fullmatch(pattern, num)\n",
    "if match_p is not None:\n",
    "    print(f\"Valid {len(num)}-digit mobile number\")\n",
    "else:\n",
    "    print(f\"Invalid {len(num)}-digit mobile number\")"
   ]
  },
  {
   "cell_type": "code",
   "execution_count": 12,
   "metadata": {},
   "outputs": [
    {
     "name": "stdout",
     "output_type": "stream",
     "text": [
      "Match is avilable at: 14\n"
     ]
    }
   ],
   "source": [
    "match=re.search('bbb', 'aaabbaabbaabbabbb')\n",
    "if match is not None:\n",
    "    print(f\"Match is avilable at: {match.start()}\")\n",
    "else:\n",
    "    print(f\"Match is not avilable\")"
   ]
  },
  {
   "cell_type": "code",
   "execution_count": 13,
   "metadata": {},
   "outputs": [
    {
     "name": "stdout",
     "output_type": "stream",
     "text": [
      "Pattern found!\n",
      "Start index: 18\n",
      "End index: 24\n",
      "Matched string: Akshay\n"
     ]
    }
   ],
   "source": [
    "import re\n",
    "\n",
    "# Sample string\n",
    "text = \"Hello, my name is Akshay.\"\n",
    "\n",
    "# Pattern to search for\n",
    "pattern = r\"Akshay\"\n",
    "\n",
    "# Using re.search() to search for the pattern\n",
    "match = re.search(pattern, text)\n",
    "\n",
    "if match:\n",
    "    print(\"Pattern found!\")\n",
    "    print(\"Start index:\", match.start())  # Start index of the match\n",
    "    print(\"End index:\", match.end())      # End index of the match\n",
    "    print(\"Matched string:\", match.group())  # Matched string\n",
    "else:\n",
    "    print(\"Pattern not found!\")\n"
   ]
  },
  {
   "cell_type": "markdown",
   "metadata": {},
   "source": [
    "#### 3. `search()`\n",
    "\n",
    "The `search()` function from Python's `re` module is used to search for a given pattern *anywhere* within a target string.\n",
    "\n",
    "*   If a match is found, the function returns a Match object representing the *first* occurrence of the match.\n",
    "*   If no match is found, the function returns `None`.\n",
    "\n",
    "**Key Difference from `match()`:**\n",
    "\n",
    "Unlike `match()`, which only checks for a match at the beginning of the string, `search()` searches throughout the entire string.\n",
    "\n"
   ]
  },
  {
   "cell_type": "code",
   "execution_count": 14,
   "metadata": {},
   "outputs": [
    {
     "name": "stdout",
     "output_type": "stream",
     "text": [
      "Match found in string1: abc, start: 0, end: 3\n",
      "Match found in string2: abc, start: 3, end: 6\n",
      "No match found in string3\n"
     ]
    }
   ],
   "source": [
    "string1 = \"abcdefg\"\n",
    "string2 = \"xyzabcpqr\"\n",
    "string3 = \"xyzpqr\"\n",
    "\n",
    "pattern = \"abc\"\n",
    "\n",
    "match1 = re.search(pattern, string1)\n",
    "match2 = re.search(pattern, string2)\n",
    "match3 = re.search(pattern, string3)\n",
    "\n",
    "if match1:\n",
    "    print(f\"Match found in string1: {match1.group()}, start: {match1.start()}, end: {match1.end()}\")\n",
    "else:\n",
    "    print(\"No match found in string1\")\n",
    "\n",
    "if match2:\n",
    "    print(f\"Match found in string2: {match2.group()}, start: {match2.start()}, end: {match2.end()}\")\n",
    "else:\n",
    "    print(\"No match found in string2\")\n",
    "\n",
    "if match3:\n",
    "    print(f\"Match found in string3: {match3.group()}, start: {match3.start()}, end: {match3.end()}\")\n",
    "else:\n",
    "    print(\"No match found in string3\")"
   ]
  },
  {
   "cell_type": "code",
   "execution_count": 16,
   "metadata": {},
   "outputs": [
    {
     "name": "stdout",
     "output_type": "stream",
     "text": [
      "['7', '9', '4']\n"
     ]
    }
   ],
   "source": [
    "l=re.findall('[0-9]', 'a7b9kz@kmn4')\n",
    "print(l)"
   ]
  },
  {
   "cell_type": "code",
   "execution_count": 18,
   "metadata": {},
   "outputs": [
    {
     "name": "stdout",
     "output_type": "stream",
     "text": [
      "Match found at: 1\n",
      "Match found at: 3\n",
      "Match found at: 10\n"
     ]
    }
   ],
   "source": [
    "l = re.finditer('[0-9]', 'a7b9kz@kmn4')\n",
    "for match in l:\n",
    "    print(f\"Match found at: {match.start()}\")"
   ]
  },
  {
   "cell_type": "code",
   "execution_count": 19,
   "metadata": {},
   "outputs": [
    {
     "name": "stdout",
     "output_type": "stream",
     "text": [
      "a#b#kz@kmn#\n"
     ]
    }
   ],
   "source": [
    "s=re.sub('[0-9]', '#', 'a7b9kz@kmn4')\n",
    "print(s) \n"
   ]
  },
  {
   "cell_type": "code",
   "execution_count": 33,
   "metadata": {},
   "outputs": [
    {
     "name": "stdout",
     "output_type": "stream",
     "text": [
      "Pattern found!\n",
      "Username: john.doe\n",
      "Domain: example.com\n",
      "Full match: john.doe@example.com\n",
      "Start index: 14\n",
      "End index: 34\n"
     ]
    }
   ],
   "source": [
    "import re\n",
    "\n",
    "# Sample string with a complex format (email with name)\n",
    "text = \"Contact me at john.doe@example.com for further details.\"\n",
    "\n",
    "# Pattern to search for email and extract username and domain using named groups\n",
    "pattern = r\"(?P<username>[a-zA-Z0-9._%+-]+)@(?P<domain>[a-zA-Z0-9.-]+\\.[a-zA-Z]{2,})\"\n",
    "\n",
    "# Using re.search() to find the first match\n",
    "match = re.search(pattern, text)\n",
    "\n",
    "if match:\n",
    "    print(\"Pattern found!\")\n",
    "    print(\"Username:\", match.group(\"username\"))  # Extract username\n",
    "    print(\"Domain:\", match.group(\"domain\"))      # Extract domain\n",
    "    print(\"Full match:\", match.group())          # Extract the full matched string\n",
    "    print(\"Start index:\", match.start())         # Start index of the match\n",
    "    print(\"End index:\", match.end())             # End index of the match\n",
    "else:\n",
    "    print(\"Pattern not found!\")\n"
   ]
  },
  {
   "cell_type": "markdown",
   "metadata": {},
   "source": [
    "\n",
    "#### 6. `sub()`\n",
    "\n",
    "The `sub()` function in Python's `re` module performs substitutions or replacements of matched patterns within a string.\n",
    "\n",
    "**Syntax:**\n",
    "\n",
    "```python\n",
    "re.sub(pattern, replacement_string, target_string)\n",
    "```\n",
    "\n",
    "*   `pattern`: The regular expression pattern to search for.\n",
    "*   `replacement_string`: The string that will replace the matched occurrences of the pattern.\n",
    "*   `target_string`: The string in which the substitutions will be performed.\n",
    "\n",
    "**Functionality:**\n",
    "\n",
    "`sub()` searches for all non-overlapping occurrences of the `pattern` in the `target_string` and replaces them with the `replacement_string`. It then returns the modified string.\n"
   ]
  },
  {
   "cell_type": "code",
   "execution_count": 20,
   "metadata": {},
   "outputs": [
    {
     "name": "stdout",
     "output_type": "stream",
     "text": [
      "The quick brown cat jumps over the lazy dog.\n",
      "123 xyz 456 xyz 789\n",
      "aaa ddd ccc\n"
     ]
    }
   ],
   "source": [
    "\n",
    "text = \"The quick brown fox jumps over the lazy dog.\"\n",
    "pattern = \"fox\"\n",
    "replacement = \"cat\"\n",
    "\n",
    "new_text = re.sub(pattern, replacement, text)\n",
    "print(new_text)\n",
    "\n",
    "text2 = \"123 abc 456 abc 789\"\n",
    "pattern2 = \"abc\"\n",
    "replacement2 = \"xyz\"\n",
    "new_text2 = re.sub(pattern2, replacement2, text2)\n",
    "print(new_text2)\n",
    "\n",
    "text3 = \"aaa bbb ccc\"\n",
    "pattern3 = \"b\"\n",
    "replacement3 = \"d\"\n",
    "new_text3 = re.sub(pattern3, replacement3, text3)\n",
    "print(new_text3)"
   ]
  },
  {
   "cell_type": "markdown",
   "metadata": {},
   "source": [
    "#### 7. `subn()`\n",
    "\n",
    "The `subn()` function in Python's `re` module is very similar to `sub()`, but with one key difference: it returns a tuple containing two elements:\n",
    "\n",
    "1.  The modified string (with the substitutions made).\n",
    "2.  The number of substitutions that were performed.\n",
    "\n",
    "**Syntax:**\n",
    "\n",
    "```python\n",
    "re.subn(pattern, replacement_string, target_string)"
   ]
  },
  {
   "cell_type": "code",
   "execution_count": 24,
   "metadata": {},
   "outputs": [
    {
     "name": "stdout",
     "output_type": "stream",
     "text": [
      "('The quick brown cat jumps over the lazy cat.', 2)\n"
     ]
    }
   ],
   "source": [
    "text = \"The quick brown fox jumps over the lazy fox.\"\n",
    "pattern = \"fox\"\n",
    "replacement = \"cat\"\n",
    "\n",
    "result = re.subn(pattern, replacement, text)\n",
    "print(result)"
   ]
  },
  {
   "cell_type": "code",
   "execution_count": 25,
   "metadata": {},
   "outputs": [
    {
     "name": "stdout",
     "output_type": "stream",
     "text": [
      "('123 xyz 456 xyz 789', 2)\n"
     ]
    }
   ],
   "source": [
    "\n",
    "text2 = \"123 abc 456 abc 789\"\n",
    "pattern2 = \"abc\"\n",
    "replacement2 = \"xyz\"\n",
    "result2 = re.subn(pattern2, replacement2, text2)\n",
    "print(result2)\n"
   ]
  },
  {
   "cell_type": "code",
   "execution_count": 26,
   "metadata": {},
   "outputs": [
    {
     "name": "stdout",
     "output_type": "stream",
     "text": [
      "('aaa bbb ccc', 0)\n"
     ]
    }
   ],
   "source": [
    "\n",
    "text3 = \"aaa bbb ccc\"\n",
    "pattern3 = \"z\" # no match\n",
    "replacement3 = \"d\"\n",
    "result3 = re.subn(pattern3, replacement3, text3)\n",
    "print(result3)"
   ]
  },
  {
   "cell_type": "markdown",
   "metadata": {},
   "source": [
    "#### 8. `split()`\n",
    "\n",
    "The `split()` function in Python's `re` module is used to split a target string into a list of substrings, based on occurrences of a specified pattern.\n",
    "\n",
    "**Syntax:**\n",
    "\n",
    "```python\n",
    "re.split(pattern, target_string)"
   ]
  },
  {
   "cell_type": "code",
   "execution_count": 27,
   "metadata": {},
   "outputs": [
    {
     "name": "stdout",
     "output_type": "stream",
     "text": [
      "['27', '11', '2020']\n",
      "27\n",
      "11\n",
      "2020\n"
     ]
    }
   ],
   "source": [
    "date_string = '27-11-2020'\n",
    "result = re.split('-', date_string)\n",
    "print(result)\n",
    "\n",
    "for s in result:\n",
    "    print(s)"
   ]
  },
  {
   "cell_type": "code",
   "execution_count": 28,
   "metadata": {},
   "outputs": [
    {
     "name": "stdout",
     "output_type": "stream",
     "text": [
      "['apple', 'banana', 'orange', 'grape']\n"
     ]
    }
   ],
   "source": [
    "text = \"apple,banana,orange,grape\"\n",
    "result2 = re.split(',', text)\n",
    "print(result2)"
   ]
  },
  {
   "cell_type": "code",
   "execution_count": 29,
   "metadata": {},
   "outputs": [
    {
     "name": "stdout",
     "output_type": "stream",
     "text": [
      "['one', 'two', 'three', 'four']\n"
     ]
    }
   ],
   "source": [
    "text2 = \"one two three four\"\n",
    "result3 = re.split(r\"\\s+\", text2) # Split by one or more whitespace characters\n",
    "print(result3)"
   ]
  },
  {
   "cell_type": "code",
   "execution_count": 30,
   "metadata": {},
   "outputs": [
    {
     "name": "stdout",
     "output_type": "stream",
     "text": [
      "['[invalid URL removed]']\n",
      "['[invalid URL removed]']\n"
     ]
    }
   ],
   "source": [
    "url = \"[invalid URL removed]\"\n",
    "parts = re.split(r\"//\", url)  # Split by \"//\"\n",
    "print(parts)\n",
    "\n",
    "url2 = \"[invalid URL removed]\"\n",
    "parts2 = re.split(r\"//\", url2)\n",
    "print(parts2)"
   ]
  },
  {
   "cell_type": "code",
   "execution_count": 34,
   "metadata": {},
   "outputs": [
    {
     "name": "stdout",
     "output_type": "stream",
     "text": [
      "Protocol: https:\n",
      "Domain: www.example.com\n",
      "Path: /path/to/page.html\n",
      "Protocol: http:\n",
      "Domain: www.example.com\n",
      "Path: \n"
     ]
    }
   ],
   "source": [
    "url = \"https://www.example.com/path/to/page.html\"\n",
    "parts = re.split(r\"//\", url)\n",
    "protocol = parts[0]\n",
    "rest = parts[1]\n",
    "domain_and_path = re.split(r\"/\", rest, 1)re only once\n",
    "domain = domain_and_path[0]\n",
    "path = \"/\" + domain_and_path[1] if len(domain_and_path) > 1 else \"\"\n",
    "\n",
    "print(f\"Protocol: {protocol}\")\n",
    "print(f\"Domain: {domain}\")\n",
    "print(f\"Path: {path}\")\n",
    "\n",
    "url2 = \"http://www.example.com\" # no path\n",
    "parts2 = re.split(r\"//\", url2)\n",
    "protocol2 = parts2[0]\n",
    "rest2 = parts2[1]\n",
    "domain_and_path2 = re.split(r\"/\", rest2, 1)\n",
    "domain2 = domain_and_path2[0]\n",
    "path2 = \"/\" + domain_and_path2[1] if len(domain_and_path2) > 1 else \"\"\n",
    "\n",
    "print(f\"Protocol: {protocol2}\")\n",
    "print(f\"Domain: {domain2}\")\n",
    "print(f\"Path: {path2}\")"
   ]
  },
  {
   "cell_type": "code",
   "execution_count": 35,
   "metadata": {},
   "outputs": [
    {
     "name": "stdout",
     "output_type": "stream",
     "text": [
      "Base URL: https://www.example.com/search\n",
      "Query String: q=python&lang=en\n",
      "Query Parameters:\n",
      "q=python\n",
      "lang=en\n"
     ]
    }
   ],
   "source": [
    "import re\n",
    "\n",
    "# Sample URL with query string\n",
    "url_with_query = \"https://www.example.com/search?q=python&lang=en\"\n",
    "\n",
    "# Split the URL into base URL and query string using re.split()\n",
    "parts = re.split(r\"\\?\", url_with_query)\n",
    "base_url = parts[0]\n",
    "query_string = parts[1] if len(parts) > 1 else \"\"\n",
    "\n",
    "print(f\"Base URL: {base_url}\")\n",
    "print(f\"Query String: {query_string}\")\n",
    "\n",
    "# If there is a query string, split it into individual parameters\n",
    "if query_string:\n",
    "    query_params = re.split(r\"&\", query_string)\n",
    "    print(\"Query Parameters:\")\n",
    "    for param in query_params:\n",
    "        print(param)\n"
   ]
  },
  {
   "cell_type": "markdown",
   "metadata": {},
   "source": [
    "`match()` --> To check whether the given target string starts with specified pattern or not\n",
    "\n",
    "`fullmatch()` --> To check whether total target string matched pattern or not\n",
    "\n",
    "`search()` --> To return first occurrence of the match\n",
    "\n",
    "`findall()` --> To return all matches\n",
    "\n",
    "`finditer()` --> To return iterator object which yields Match object\n",
    "\n",
    "`sub()` --> To replace every occurence of the pattern with provided replacement string\n",
    "\n",
    "`subn()` --> same as `sub()` but also returns the number of occurrences\n",
    "\n",
    "`split()` --> To split the target string based on given pattern."
   ]
  },
  {
   "cell_type": "code",
   "execution_count": null,
   "metadata": {},
   "outputs": [],
   "source": []
  }
 ],
 "metadata": {
  "kernelspec": {
   "display_name": "Python 3",
   "language": "python",
   "name": "python3"
  },
  "language_info": {
   "codemirror_mode": {
    "name": "ipython",
    "version": 3
   },
   "file_extension": ".py",
   "mimetype": "text/x-python",
   "name": "python",
   "nbconvert_exporter": "python",
   "pygments_lexer": "ipython3",
   "version": "3.10.9"
  }
 },
 "nbformat": 4,
 "nbformat_minor": 2
}
