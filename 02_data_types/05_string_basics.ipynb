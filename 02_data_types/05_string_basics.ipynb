{
 "cells": [
  {
   "cell_type": "markdown",
   "metadata": {},
   "source": [
    "#### **The most commonly used object in any project and in any programming language is String only. Hence we should be aware of complete information about the String data type.**"
   ]
  },
  {
   "cell_type": "markdown",
   "metadata": {},
   "source": [
    "#### What is String?\n",
    "Any sequence of characters within either single quotes or double quotes is considered a String.  "
   ]
  },
  {
   "cell_type": "code",
   "execution_count": null,
   "metadata": {},
   "outputs": [],
   "source": [
    "# Syntax\n",
    "st = 'durga'  \n",
    "s = \"durga\""
   ]
  },
  {
   "cell_type": "markdown",
   "metadata": {},
   "source": [
    "**Note:**  \n",
    "In most other languages like C, C++, Java, a single character within single quotes is treated as a `char` data type value. However, in Python, there is no `char` data type; it is treated as a String.\n"
   ]
  },
  {
   "cell_type": "code",
   "execution_count": 1,
   "metadata": {},
   "outputs": [
    {
     "data": {
      "text/plain": [
       "str"
      ]
     },
     "execution_count": 1,
     "metadata": {},
     "output_type": "execute_result"
    }
   ],
   "source": [
    "# Example\n",
    "ch = 'a'  \n",
    "type(ch)  "
   ]
  },
  {
   "cell_type": "markdown",
   "metadata": {},
   "source": [
    "**How to Define Multi-line String Literals?**\n",
    "- We can define multi-line String literals by using triple single or double quotes.  "
   ]
  },
  {
   "cell_type": "code",
   "execution_count": 2,
   "metadata": {},
   "outputs": [],
   "source": [
    "#Example  \n",
    "s = '''Durga sir one of the \n",
    "       best instructor of programming'''"
   ]
  },
  {
   "cell_type": "markdown",
   "metadata": {},
   "source": [
    "We can also use triple quotes to include single quotes or double quotes as symbols inside the String literal.  "
   ]
  },
  {
   "cell_type": "markdown",
   "metadata": {},
   "source": [
    "**Examples:**\n",
    "1) `s = 'This is ' single quote symbol'` → **Invalid**  \n",
    "2) `s = 'This is \\' single quote symbol'` → **Valid**  \n",
    "3) `s = \"This is ' single quote symbol\"` → **Valid**  \n",
    "4) `s = 'This is \" double quotes symbol'` → **Valid**  \n",
    "5) `s = 'The \"Python Notes\" by 'durga' is very helpful'` → **Invalid**  \n",
    "6) `s = \"The \"Python Notes\" by 'durga' is very helpful\"` → **Invalid**  \n",
    "7) `s = 'The \\\"Python Notes\\\" by \\'durga\\' is very helpful'` → **Valid**  \n",
    "8) `s = '''The \"Python Notes\" by 'durga' is very helpful'''` → **Valid**  "
   ]
  },
  {
   "cell_type": "markdown",
   "metadata": {},
   "source": [
    "**1. Accessing Characters of a String**\n",
    "\n",
    "We can access characters of a string using the following ways:  \n",
    "1. **By using Index**  \n",
    "2. **By using Slice Operator**\n",
    "\n",
    "**1. Accessing Characters By Using Index**  \n",
    "- Python supports both **positive (+ve)** and **negative (-ve)** indices.  \n",
    "  - **+ve Index**: Left to Right (Forward Direction)  \n",
    "  - **-ve Index**: Right to Left (Backward Direction)  \n",
    "\n",
    "**Example**  "
   ]
  },
  {
   "cell_type": "code",
   "execution_count": 3,
   "metadata": {},
   "outputs": [
    {
     "data": {
      "text/plain": [
       "'d'"
      ]
     },
     "execution_count": 3,
     "metadata": {},
     "output_type": "execute_result"
    }
   ],
   "source": [
    "s = 'durga'\n",
    "s[0]"
   ]
  },
  {
   "cell_type": "code",
   "execution_count": 4,
   "metadata": {},
   "outputs": [
    {
     "data": {
      "text/plain": [
       "'a'"
      ]
     },
     "execution_count": 4,
     "metadata": {},
     "output_type": "execute_result"
    }
   ],
   "source": [
    "s[4]"
   ]
  },
  {
   "cell_type": "code",
   "execution_count": 5,
   "metadata": {},
   "outputs": [
    {
     "data": {
      "text/plain": [
       "'a'"
      ]
     },
     "execution_count": 5,
     "metadata": {},
     "output_type": "execute_result"
    }
   ],
   "source": [
    "s[-1]"
   ]
  },
  {
   "cell_type": "code",
   "execution_count": 9,
   "metadata": {},
   "outputs": [],
   "source": [
    "# s[10] \n",
    "#IndexError: string index out of range"
   ]
  },
  {
   "cell_type": "markdown",
   "metadata": {},
   "source": [
    "**Note**  \n",
    "If we try to access characters of a string with an out-of-range index, we will get an `IndexError`."
   ]
  },
  {
   "cell_type": "markdown",
   "metadata": {},
   "source": [
    "**Example Program**  \n",
    "Write a program to accept a string from the keyboard and display its characters by index (both positive and negative)."
   ]
  },
  {
   "cell_type": "code",
   "execution_count": 12,
   "metadata": {},
   "outputs": [
    {
     "name": "stdout",
     "output_type": "stream",
     "text": [
      "Enter Some String: durga\n"
     ]
    },
    {
     "name": "stdout",
     "output_type": "stream",
     "text": [
      "The character present at positive index 0 and at negative index -5 is d\n",
      "The character present at positive index 1 and at negative index -4 is u\n",
      "The character present at positive index 2 and at negative index -3 is r\n",
      "The character present at positive index 3 and at negative index -2 is g\n",
      "The character present at positive index 4 and at negative index -1 is a\n"
     ]
    }
   ],
   "source": [
    "s = input(\"Enter Some String:\")\n",
    "i = 0\n",
    "for x in s:\n",
    "    print(\"The character present at positive index {} and at negative index {} is {}\".format(i, i - len(s), x))\n",
    "    i += 1"
   ]
  },
  {
   "cell_type": "markdown",
   "metadata": {},
   "source": [
    "<br>\n",
    "\n",
    "### **2. Accessing Characters by Using Slice Operator**\n",
    "\n",
    "**Syntax**  \n",
    "`s[beginindex: endindex: step]`  \n",
    "\n",
    "- **Begin Index**: Starting point of the slice (substring).  \n",
    "- **End Index**: The slice terminates at `endindex-1`.  \n",
    "- **Step**: Increment value for slicing.\n",
    "\n",
    "**Note**  \n",
    "- If the **begin index** is not specified, slicing starts from the beginning of the string.  \n",
    "- If the **end index** is not specified, slicing continues to the end of the string.  \n",
    "- The default value for the **step** is `1`.  \n",
    "\n",
    "**Examples**  "
   ]
  },
  {
   "cell_type": "code",
   "execution_count": 14,
   "metadata": {},
   "outputs": [],
   "source": [
    "s = \"Learning Python is very very easy!!!\""
   ]
  },
  {
   "cell_type": "code",
   "execution_count": 15,
   "metadata": {},
   "outputs": [
    {
     "data": {
      "text/plain": [
       "'earnin'"
      ]
     },
     "execution_count": 15,
     "metadata": {},
     "output_type": "execute_result"
    }
   ],
   "source": [
    "s[1:7:1]"
   ]
  },
  {
   "cell_type": "code",
   "execution_count": 16,
   "metadata": {},
   "outputs": [
    {
     "data": {
      "text/plain": [
       "'earnin'"
      ]
     },
     "execution_count": 16,
     "metadata": {},
     "output_type": "execute_result"
    }
   ],
   "source": [
    "s[1:7]"
   ]
  },
  {
   "cell_type": "code",
   "execution_count": 17,
   "metadata": {},
   "outputs": [
    {
     "data": {
      "text/plain": [
       "'eri'"
      ]
     },
     "execution_count": 17,
     "metadata": {},
     "output_type": "execute_result"
    }
   ],
   "source": [
    "s[1:7:2]"
   ]
  },
  {
   "cell_type": "code",
   "execution_count": 18,
   "metadata": {},
   "outputs": [
    {
     "data": {
      "text/plain": [
       "'Learnin'"
      ]
     },
     "execution_count": 18,
     "metadata": {},
     "output_type": "execute_result"
    }
   ],
   "source": [
    "s[:7]"
   ]
  },
  {
   "cell_type": "code",
   "execution_count": 19,
   "metadata": {},
   "outputs": [
    {
     "data": {
      "text/plain": [
       "'g Python is very very easy!!!'"
      ]
     },
     "execution_count": 19,
     "metadata": {},
     "output_type": "execute_result"
    }
   ],
   "source": [
    "s[7:]"
   ]
  },
  {
   "cell_type": "code",
   "execution_count": 20,
   "metadata": {},
   "outputs": [
    {
     "data": {
      "text/plain": [
       "'Learning Python is very very easy!!!'"
      ]
     },
     "execution_count": 20,
     "metadata": {},
     "output_type": "execute_result"
    }
   ],
   "source": [
    "s[::]"
   ]
  },
  {
   "cell_type": "code",
   "execution_count": 21,
   "metadata": {},
   "outputs": [
    {
     "data": {
      "text/plain": [
       "'Learning Python is very very easy!!!'"
      ]
     },
     "execution_count": 21,
     "metadata": {},
     "output_type": "execute_result"
    }
   ],
   "source": [
    "s[:]"
   ]
  },
  {
   "cell_type": "code",
   "execution_count": 22,
   "metadata": {},
   "outputs": [
    {
     "data": {
      "text/plain": [
       "'!!!ysae yrev yrev si nohtyP gninraeL'"
      ]
     },
     "execution_count": 22,
     "metadata": {},
     "output_type": "execute_result"
    }
   ],
   "source": [
    "s[::-1]"
   ]
  },
  {
   "cell_type": "markdown",
   "metadata": {},
   "source": [
    "#### **Behaviour of Slice Operator**\n",
    "\n",
    "1. `s[begin: end: step]`  \n",
    "2. **Step Value**:  \n",
    "   - If **step** is positive, slicing is done in the forward direction (left to right), considering characters from `begin` to `end-1`.  \n",
    "   - If **step** is negative, slicing is done in the backward direction (right to left), considering characters from `begin` to `end+1`.  \n",
    "\n",
    "**Notes**  \n",
    "- In the **backward direction**, if the **end value** is `-1`, the result is always empty.  \n",
    "- In the **forward direction**, if the **end value** is `0`, the result is always empty.  "
   ]
  },
  {
   "cell_type": "markdown",
   "metadata": {},
   "source": [
    "### **String Slicing in Python**\n",
    "\n",
    "**In Forward Direction:**  \n",
    "- Default value for `begin`: 0  \n",
    "- Default value for `end`: length of string  \n",
    "- Default value for `step`: +1  \n",
    "\n",
    "**In Backward Direction:**  \n",
    "- Default value for `begin`: -1  \n",
    "- Default value for `end`: -(length of string + 1)  \n",
    "\n",
    "**Note:** Either in forward or backward direction, we can use both positive and negative values for `begin` and `end` indices.  \n",
    "\n",
    "#### Slice Operator Case Study:  "
   ]
  },
  {
   "cell_type": "code",
   "execution_count": 4,
   "metadata": {},
   "outputs": [],
   "source": [
    "s = 'deepleaningrocks'"
   ]
  },
  {
   "cell_type": "code",
   "execution_count": 8,
   "metadata": {},
   "outputs": [
    {
     "data": {
      "text/plain": [
       "'epe'"
      ]
     },
     "execution_count": 8,
     "metadata": {},
     "output_type": "execute_result"
    }
   ],
   "source": [
    "s = 'deepleaningrocks'\n",
    "s[1:6:2]"
   ]
  },
  {
   "cell_type": "code",
   "execution_count": 9,
   "metadata": {},
   "outputs": [
    {
     "data": {
      "text/plain": [
       "'deepleaningrocks'"
      ]
     },
     "execution_count": 9,
     "metadata": {},
     "output_type": "execute_result"
    }
   ],
   "source": [
    "s[::1]"
   ]
  },
  {
   "cell_type": "code",
   "execution_count": 10,
   "metadata": {},
   "outputs": [
    {
     "data": {
      "text/plain": [
       "'skcorgninaelpeed'"
      ]
     },
     "execution_count": 10,
     "metadata": {},
     "output_type": "execute_result"
    }
   ],
   "source": [
    "s[::-1]"
   ]
  },
  {
   "cell_type": "code",
   "execution_count": 11,
   "metadata": {},
   "outputs": [
    {
     "data": {
      "text/plain": [
       "''"
      ]
     },
     "execution_count": 11,
     "metadata": {},
     "output_type": "execute_result"
    }
   ],
   "source": [
    "s[3:7:-1]"
   ]
  },
  {
   "cell_type": "code",
   "execution_count": 12,
   "metadata": {},
   "outputs": [
    {
     "data": {
      "text/plain": [
       "'orgninaelpe'"
      ]
     },
     "execution_count": 12,
     "metadata": {},
     "output_type": "execute_result"
    }
   ],
   "source": [
    "s[7:4:-1]\n",
    "s[0:10000:1]\n",
    "s[-4:1:-1]"
   ]
  },
  {
   "cell_type": "code",
   "execution_count": 13,
   "metadata": {},
   "outputs": [
    {
     "data": {
      "text/plain": [
       "'ogiale'"
      ]
     },
     "execution_count": 13,
     "metadata": {},
     "output_type": "execute_result"
    }
   ],
   "source": [
    "s[-4:1:-2]"
   ]
  },
  {
   "cell_type": "code",
   "execution_count": 14,
   "metadata": {},
   "outputs": [
    {
     "data": {
      "text/plain": [
       "''"
      ]
     },
     "execution_count": 14,
     "metadata": {},
     "output_type": "execute_result"
    }
   ],
   "source": [
    "s[5:0:1]"
   ]
  },
  {
   "cell_type": "code",
   "execution_count": 15,
   "metadata": {},
   "outputs": [],
   "source": [
    "#s[9:0:0]  # ValueError: slice step cannot be zero"
   ]
  },
  {
   "cell_type": "code",
   "execution_count": 16,
   "metadata": {},
   "outputs": [
    {
     "data": {
      "text/plain": [
       "''"
      ]
     },
     "execution_count": 16,
     "metadata": {},
     "output_type": "execute_result"
    }
   ],
   "source": [
    "s[0:-10:-1]"
   ]
  },
  {
   "cell_type": "code",
   "execution_count": 17,
   "metadata": {},
   "outputs": [
    {
     "data": {
      "text/plain": [
       "''"
      ]
     },
     "execution_count": 17,
     "metadata": {},
     "output_type": "execute_result"
    }
   ],
   "source": [
    "s[0:-11:-1]"
   ]
  },
  {
   "cell_type": "code",
   "execution_count": 18,
   "metadata": {},
   "outputs": [
    {
     "data": {
      "text/plain": [
       "''"
      ]
     },
     "execution_count": 18,
     "metadata": {},
     "output_type": "execute_result"
    }
   ],
   "source": [
    "s[0:0:1]"
   ]
  },
  {
   "cell_type": "code",
   "execution_count": 19,
   "metadata": {},
   "outputs": [
    {
     "data": {
      "text/plain": [
       "''"
      ]
     },
     "execution_count": 19,
     "metadata": {},
     "output_type": "execute_result"
    }
   ],
   "source": [
    "s[0:-9:-2]"
   ]
  },
  {
   "cell_type": "code",
   "execution_count": 20,
   "metadata": {},
   "outputs": [
    {
     "data": {
      "text/plain": [
       "'rn'"
      ]
     },
     "execution_count": 20,
     "metadata": {},
     "output_type": "execute_result"
    }
   ],
   "source": [
    "s[-5:-9:-2]"
   ]
  },
  {
   "cell_type": "code",
   "execution_count": 21,
   "metadata": {},
   "outputs": [
    {
     "data": {
      "text/plain": [
       "''"
      ]
     },
     "execution_count": 21,
     "metadata": {},
     "output_type": "execute_result"
    }
   ],
   "source": [
    "s[10:-1:-1]"
   ]
  },
  {
   "cell_type": "code",
   "execution_count": 22,
   "metadata": {},
   "outputs": [
    {
     "data": {
      "text/plain": [
       "'skcorgninaelp'"
      ]
     },
     "execution_count": 22,
     "metadata": {},
     "output_type": "execute_result"
    }
   ],
   "source": [
    "s[10000:2:-1]"
   ]
  },
  {
   "cell_type": "markdown",
   "metadata": {},
   "source": [
    "### **Mathematical Operators for Strings**\n",
    "\n",
    "We can apply the following mathematical operators for Strings:\n",
    "\n",
    "1. **`+` operator for concatenation**\n",
    "2. **`*` operator for repetition**\n",
    "\n",
    "Examples:"
   ]
  },
  {
   "cell_type": "code",
   "execution_count": null,
   "metadata": {},
   "outputs": [],
   "source": [
    "print(\"durga\" + \"soft\")  # Output: durgasoft\n",
    "print(\"durga\" * 2)       # Output: durgadurga"
   ]
  },
  {
   "cell_type": "markdown",
   "metadata": {},
   "source": [
    "**Note:**\n",
    "1. To use the `+` operator for Strings, both arguments must be of type `str`.\n",
    "2. To use the `*` operator for Strings, one argument must be of type `str`, and the other must be of type `int`."
   ]
  },
  {
   "cell_type": "markdown",
   "metadata": {},
   "source": [
    "**`len()` Built-in Function:**\n",
    "We can use the `len()` function to find the number of characters in a string.\n",
    "\n",
    "Example:"
   ]
  },
  {
   "cell_type": "code",
   "execution_count": 41,
   "metadata": {},
   "outputs": [
    {
     "name": "stdout",
     "output_type": "stream",
     "text": [
      "5\n"
     ]
    }
   ],
   "source": [
    "s = 'durga'\n",
    "print(len(s))"
   ]
  },
  {
   "cell_type": "markdown",
   "metadata": {},
   "source": [
    "**Question:**\n",
    "**Write a Program to access each Character of a String in Forward and Backward Direction using a `while` Loop.**"
   ]
  },
  {
   "cell_type": "code",
   "execution_count": 42,
   "metadata": {},
   "outputs": [],
   "source": [
    "s = \"Learning Python is very easy !!!\"\n",
    "n = len(s)"
   ]
  },
  {
   "cell_type": "code",
   "execution_count": 43,
   "metadata": {},
   "outputs": [
    {
     "name": "stdout",
     "output_type": "stream",
     "text": [
      "Forward direction\n",
      "L e a r n i n g   P y t h o n   i s   v e r y   e a s y   ! ! ! "
     ]
    }
   ],
   "source": [
    "# Forward Direction\n",
    "print(\"Forward direction\")\n",
    "i = 0\n",
    "while i < n:\n",
    "    print(s[i], end=' ')\n",
    "    i += 1"
   ]
  },
  {
   "cell_type": "code",
   "execution_count": 44,
   "metadata": {},
   "outputs": [
    {
     "name": "stdout",
     "output_type": "stream",
     "text": [
      "\n",
      "Backward direction\n",
      "! ! !   y s a e   y r e v   s i   n o h t y P   g n i n r a e L "
     ]
    }
   ],
   "source": [
    "# Backward Direction\n",
    "print(\"\\nBackward direction\")\n",
    "i = -1\n",
    "while i >= -n:\n",
    "    print(s[i], end=' ')\n",
    "    i -= 1"
   ]
  },
  {
   "cell_type": "markdown",
   "metadata": {},
   "source": [
    "**Alternative Ways:**"
   ]
  },
  {
   "cell_type": "code",
   "execution_count": 45,
   "metadata": {},
   "outputs": [],
   "source": [
    "s = \"Learning Python is very easy !!!\""
   ]
  },
  {
   "cell_type": "code",
   "execution_count": 46,
   "metadata": {},
   "outputs": [
    {
     "name": "stdout",
     "output_type": "stream",
     "text": [
      "Forward direction\n",
      "L e a r n i n g   P y t h o n   i s   v e r y   e a s y   ! ! ! "
     ]
    }
   ],
   "source": [
    "# Forward Direction (Using `for` Loop)\n",
    "print(\"Forward direction\")\n",
    "for i in s:\n",
    "    print(i, end=' ')"
   ]
  },
  {
   "cell_type": "code",
   "execution_count": 47,
   "metadata": {},
   "outputs": [
    {
     "name": "stdout",
     "output_type": "stream",
     "text": [
      "\n",
      "Forward direction\n",
      "L e a r n i n g   P y t h o n   i s   v e r y   e a s y   ! ! ! "
     ]
    }
   ],
   "source": [
    "# Forward Direction (Using Slicing)\n",
    "print(\"\\nForward direction\")\n",
    "for i in s[::]:\n",
    "    print(i, end=' ')"
   ]
  },
  {
   "cell_type": "code",
   "execution_count": 48,
   "metadata": {},
   "outputs": [
    {
     "name": "stdout",
     "output_type": "stream",
     "text": [
      "\n",
      "Backward direction\n",
      "! ! !   y s a e   y r e v   s i   n o h t y P   g n i n r a e L "
     ]
    }
   ],
   "source": [
    "# Backward Direction (Using Slicing)\n",
    "print(\"\\nBackward direction\")\n",
    "for i in s[::-1]:\n",
    "    print(i, end=' ')"
   ]
  },
  {
   "cell_type": "markdown",
   "metadata": {},
   "source": [
    "\n",
    "**Checking Membership:**  \n",
    "We can check whether a character or string is a member of another string using `in` and `not in` operators.\n",
    "\n",
    "Example:"
   ]
  },
  {
   "cell_type": "code",
   "execution_count": 23,
   "metadata": {},
   "outputs": [
    {
     "name": "stdout",
     "output_type": "stream",
     "text": [
      "True\n",
      "False\n"
     ]
    }
   ],
   "source": [
    "s = 'durga'\n",
    "print('d' in s)  # True\n",
    "print('z' in s)  # False"
   ]
  },
  {
   "cell_type": "code",
   "execution_count": null,
   "metadata": {},
   "outputs": [],
   "source": [
    "s = input(\"Enter main string:\")\n",
    "subs = input(\"Enter sub string:\")\n",
    "if subs in s:\n",
    "    print(subs, \"is found in main string\")\n",
    "else:\n",
    "    print(subs, \"is not found in main string\")"
   ]
  },
  {
   "cell_type": "markdown",
   "metadata": {},
   "source": [
    "\n",
    "**Comparison of Strings:**  \n",
    "We can use comparison operators (`<`, `<=`, `>`, `>=`) and equality operators (`==`, `!=`) for strings.  \n",
    "Comparison is performed based on alphabetical order.\n",
    "\n",
    "Program:"
   ]
  },
  {
   "cell_type": "code",
   "execution_count": null,
   "metadata": {},
   "outputs": [],
   "source": [
    "s1 = input(\"Enter first string:\")\n",
    "s2 = input(\"Enter Second string:\")\n",
    "if s1 == s2:\n",
    "    print(\"Both strings are equal\")\n",
    "elif s1 < s2:\n",
    "    print(\"First String is less than Second String\")\n",
    "else:\n",
    "    print(\"First String is greater than Second String\")"
   ]
  },
  {
   "cell_type": "markdown",
   "metadata": {},
   "source": [
    "**Removing Spaces from the String:**  \n",
    "We can use the following methods to remove spaces:  \n",
    "1. **`rstrip()`**: Removes spaces at the right-hand side.  \n",
    "2. **`lstrip()`**: Removes spaces at the left-hand side.  \n",
    "3. **`strip()`**: Removes spaces from both sides.\n"
   ]
  },
  {
   "cell_type": "code",
   "execution_count": 1,
   "metadata": {},
   "outputs": [
    {
     "name": "stdout",
     "output_type": "stream",
     "text": [
      "Hello Madrasi...Vanakkam\n"
     ]
    }
   ],
   "source": [
    "city = input(\"Enter your city Name:\")\n",
    "scity = city.strip()\n",
    "if scity == 'Hyderabad':\n",
    "    print(\"Hello Hyderbadi..Adab\")\n",
    "elif scity == 'Chennai':\n",
    "    print(\"Hello Madrasi...Vanakkam\")\n",
    "elif scity == \"Bangalore\":\n",
    "    print(\"Hello Kannadiga...Shubhodaya\")\n",
    "else:\n",
    "    print(\"Your entered city is invalid\")\n"
   ]
  },
  {
   "cell_type": "markdown",
   "metadata": {},
   "source": [
    "<br>\n",
    "\n",
    "### **Finding Substrings**\n",
    "\n",
    "We can use the following four methods to find substrings in a string:\n",
    "\n",
    "#### For Forward Direction:\n",
    "1. **find()**\n",
    "2. **index()**\n",
    "\n",
    "#### For Backward Direction:\n",
    "1. **rfind()**\n",
    "2. **rindex()**"
   ]
  },
  {
   "cell_type": "markdown",
   "metadata": {},
   "source": [
    "#### **`find()` Method:**\n",
    "`s.find(substring)`  \n",
    "Returns the index of the first occurrence of the given substring. If the substring is not available, it returns `-1`.\n",
    "\n",
    "**Examples:**"
   ]
  },
  {
   "cell_type": "code",
   "execution_count": 1,
   "metadata": {},
   "outputs": [
    {
     "name": "stdout",
     "output_type": "stream",
     "text": [
      "9\n",
      "-1\n",
      "3\n",
      "21\n"
     ]
    }
   ],
   "source": [
    "s = \"Learning Python is very easy\"\n",
    "print(s.find(\"Python\"))  # 9\n",
    "print(s.find(\"Java\"))    # -1\n",
    "print(s.find(\"r\"))       # 3\n",
    "print(s.rfind(\"r\"))      # 21"
   ]
  },
  {
   "cell_type": "markdown",
   "metadata": {},
   "source": [
    "\n",
    "#### Note:\n",
    "By default, the `find()` method searches the entire string. However, we can specify the boundaries for the search.\n",
    "\n",
    "`s.find(substring, begin, end)`  \n",
    "\n",
    "Searches from `begin` index to `end - 1` index.\n",
    "\n",
    "**Examples:**"
   ]
  },
  {
   "cell_type": "code",
   "execution_count": 49,
   "metadata": {},
   "outputs": [
    {
     "name": "stdout",
     "output_type": "stream",
     "text": [
      "4\n",
      "10\n",
      "-1\n"
     ]
    }
   ],
   "source": [
    "s = \"durgaravipavanshiva\"\n",
    "print(s.find('a'))         # 4\n",
    "print(s.find('a', 7, 15))  # 10\n",
    "print(s.find('z', 7, 15))  # -1"
   ]
  },
  {
   "cell_type": "markdown",
   "metadata": {},
   "source": [
    "#### **`index()` Method:**\n",
    "The `index()` method is exactly the same as the `find()` method, except that if the specified substring is not available, it raises a `ValueError`.\n",
    "\n",
    "**Example:**"
   ]
  },
  {
   "cell_type": "code",
   "execution_count": 50,
   "metadata": {},
   "outputs": [
    {
     "name": "stdout",
     "output_type": "stream",
     "text": [
      "Enter main string:  My favourite mentor is mr durga\n",
      "Enter sub string:  durga\n"
     ]
    },
    {
     "name": "stdout",
     "output_type": "stream",
     "text": [
      "substring found\n"
     ]
    }
   ],
   "source": [
    "s = input(\"Enter main string: \")\n",
    "subs = input(\"Enter sub string: \")\n",
    "try:\n",
    "    n = s.index(subs)\n",
    "except ValueError:\n",
    "    print(\"substring not found\")\n",
    "else:\n",
    "    print(\"substring found\")\n"
   ]
  },
  {
   "cell_type": "code",
   "execution_count": null,
   "metadata": {},
   "outputs": [
    {
     "name": "stdout",
     "output_type": "stream",
     "text": [
      "Enter main string:  All is well\n",
      "Enter sub string:  python\n"
     ]
    },
    {
     "name": "stdout",
     "output_type": "stream",
     "text": [
      "Not Found\n"
     ]
    }
   ],
   "source": [
    "## Program to Display All Positions of Substring in a Given Main String\n",
    "\n",
    "# Dry Run Example:\n",
    "# Input:\n",
    "# Enter main string: Mississippi\n",
    "# Enter sub string: issi\n",
    "#\n",
    "# Step 1: s = \"Mississippi\", subs = \"issi\", flag = False, pos = -1, n = 11\n",
    "#\n",
    "# Step 2: First iteration\n",
    "# pos = s.find(\"issi\", 0, 11) = 1\n",
    "# Print \"Found at position 1\"\n",
    "# flag = True\n",
    "#\n",
    "# Step 3: Second iteration  \n",
    "# pos = s.find(\"issi\", 2, 11) = 4\n",
    "# Print \"Found at position 4\"\n",
    "# flag = True\n",
    "#\n",
    "# Step 4: Third iteration\n",
    "# pos = s.find(\"issi\", 5, 11) = -1\n",
    "# Break loop\n",
    "#\n",
    "# Step 5: flag is True, so \"Not Found\" is not printed\n",
    "#\n",
    "# Output:\n",
    "# Found at position 1\n",
    "# Found at position 4\n",
    "\n",
    "s = input(\"Enter main string: \")\n",
    "subs = input(\"Enter sub string: \")\n",
    "flag = False\n",
    "pos = -1\n",
    "n = len(s)\n",
    "\n",
    "while True:\n",
    "    pos = s.find(subs, pos + 1, n)\n",
    "    if pos == -1:\n",
    "        break\n",
    "    print(\"Found at position\", pos)\n",
    "    flag = True\n",
    "\n",
    "if not flag:\n",
    "    print(\"Not Found\")\n",
    "\n"
   ]
  },
  {
   "cell_type": "markdown",
   "metadata": {},
   "source": [
    "### **Counting Substring in a Given String**\n",
    "\n",
    "We can find the number of occurrences of a substring in a given string using the `count()` method.\n",
    "\n",
    "**Syntax:**\n",
    "\n",
    "1. **`s.count(substring)`**  \n",
    "   Searches throughout the string for the substring.\n",
    "   \n",
    "3. **`s.count(substring, begin, end)`**  \n",
    "   Searches for the substring from the `begin` index to `end - 1` index."
   ]
  },
  {
   "cell_type": "code",
   "execution_count": 52,
   "metadata": {},
   "outputs": [
    {
     "name": "stdout",
     "output_type": "stream",
     "text": [
      "6\n",
      "4\n",
      "2\n"
     ]
    }
   ],
   "source": [
    "s = \"abcabcabcabcadda\"\n",
    "print(s.count('a'))       # 6\n",
    "print(s.count('ab'))      # 4\n",
    "print(s.count('a', 3, 7)) # 2"
   ]
  },
  {
   "cell_type": "markdown",
   "metadata": {},
   "source": [
    "### **Replacing a String with Another String**\n",
    "\n",
    "The `replace()` method replaces every occurrence of the old string with a new string in the given string.\n",
    "\n",
    "**`s.replace(oldstring, newstring)`**"
   ]
  },
  {
   "cell_type": "code",
   "execution_count": 53,
   "metadata": {},
   "outputs": [
    {
     "name": "stdout",
     "output_type": "stream",
     "text": [
      "Learning Python is very easy\n"
     ]
    }
   ],
   "source": [
    "s = \"Learning Python is very difficult\"\n",
    "s1 = s.replace(\"difficult\", \"easy\")\n",
    "print(s1)"
   ]
  },
  {
   "cell_type": "code",
   "execution_count": 54,
   "metadata": {},
   "outputs": [
    {
     "name": "stdout",
     "output_type": "stream",
     "text": [
      "bbbbbbbbbbbbbb\n"
     ]
    }
   ],
   "source": [
    "s = \"ababababababab\"\n",
    "s1 = s.replace(\"a\", \"b\")\n",
    "print(s1)"
   ]
  },
  {
   "cell_type": "markdown",
   "metadata": {},
   "source": [
    "### **String Immutability and the `replace()` Method**\n",
    "\n",
    "String objects in Python are immutable, meaning their content cannot be changed. If we use methods like `replace()` to modify a string, a **new string object** is created, and the original string remains unchanged.\n",
    "\n",
    "1. When using `replace()`, the content is modified in a new object.\n",
    "2. The original string object remains unchanged."
   ]
  },
  {
   "cell_type": "code",
   "execution_count": 55,
   "metadata": {},
   "outputs": [
    {
     "name": "stdout",
     "output_type": "stream",
     "text": [
      "abab is available at: 1879052428096\n",
      "bbbb is available at: 1879053745824\n"
     ]
    }
   ],
   "source": [
    "s = \"abab\"\n",
    "s1 = s.replace(\"a\", \"b\")\n",
    "print(s, \"is available at:\", id(s))\n",
    "print(s1, \"is available at:\", id(s1))"
   ]
  },
  {
   "cell_type": "markdown",
   "metadata": {},
   "source": [
    "\n",
    " Observations:\n",
    "- The `id()` function shows that the original object (`s`) and the new object (`s1`) have different memory addresses.\n",
    "- The original string remains intact, while the new object reflects the changes."
   ]
  },
  {
   "cell_type": "markdown",
   "metadata": {},
   "source": [
    "### **Splitting of Strings:**  \n",
    "\n",
    "We can split the given string according to the specified separator using the `split()` method.  \n",
    "\n",
    "`l = s.split(separator)`\n",
    "  \n",
    "The default separator is space. The return type of `split()` is a List.  "
   ]
  },
  {
   "cell_type": "code",
   "execution_count": 56,
   "metadata": {},
   "outputs": [
    {
     "name": "stdout",
     "output_type": "stream",
     "text": [
      "durga\n",
      "software\n",
      "solutions\n"
     ]
    }
   ],
   "source": [
    "s = \"durga software solutions\"\n",
    "l = s.split()\n",
    "for x in l:\n",
    "    print(x)"
   ]
  },
  {
   "cell_type": "code",
   "execution_count": null,
   "metadata": {},
   "outputs": [],
   "source": [
    "s = \"22-02-2018\"\n",
    "l = s.split('-')\n",
    "for x in l:\n",
    "    print(x)"
   ]
  },
  {
   "cell_type": "markdown",
   "metadata": {},
   "source": [
    "### **Joining of Strings:**  \n",
    "- We can join a group of strings (List or Tuple) with respect to a given separator.  \n",
    "- `s = separator.join(group of strings)`  "
   ]
  },
  {
   "cell_type": "markdown",
   "metadata": {},
   "source": [
    "**Example 1:**  "
   ]
  },
  {
   "cell_type": "code",
   "execution_count": null,
   "metadata": {},
   "outputs": [],
   "source": [
    "t = ('karan', 'rahul', 'madhav')\n",
    "s = '-'.join(t)\n",
    "print(s)"
   ]
  },
  {
   "cell_type": "markdown",
   "metadata": {},
   "source": [
    "**Example 2:**  "
   ]
  },
  {
   "cell_type": "code",
   "execution_count": null,
   "metadata": {},
   "outputs": [],
   "source": [
    "l = ['hyderabad', 'singapore', 'london', 'dubai']\n",
    "s = ':'.join(l)\n",
    "print(s)"
   ]
  },
  {
   "cell_type": "markdown",
   "metadata": {},
   "source": [
    "### **Changing Case of a String:**  \n",
    "We can change the case of a string using the following methods:  \n",
    "1) `upper()` → Converts all characters to upper case  \n",
    "2) `lower()` → Converts all characters to lower case  \n",
    "3) `swapcase()` → Converts lower case to upper case and upper case to lower case  \n",
    "4) `title()` → Converts each word's first character to upper case  \n",
    "5) `capitalize()` → Converts only the first character of the string to upper case  \n",
    "\n",
    "**Example:**"
   ]
  },
  {
   "cell_type": "code",
   "execution_count": null,
   "metadata": {},
   "outputs": [],
   "source": [
    "s = \"learning Python is very Easy\"\n",
    "print(s.upper())      # LEARNING PYTHON IS VERY EASY\n",
    "print(s.lower())      # learning python is very easy\n",
    "print(s.swapcase())   # LEARNING pYTHON IS VERY eASY\n",
    "print(s.title())      # Learning Python Is Very Easy\n",
    "print(s.capitalize()) # Learning python is very easy"
   ]
  },
  {
   "cell_type": "markdown",
   "metadata": {},
   "source": [
    "### **Checking Starting and Ending Part of a String:**  \n",
    "- `s.startswith(substring)`  \n",
    "- `s.endswith(substring)`  \n",
    "\n",
    "**Example:** "
   ]
  },
  {
   "cell_type": "markdown",
   "metadata": {},
   "source": [
    " \n",
    "```python"
   ]
  },
  {
   "cell_type": "code",
   "execution_count": null,
   "metadata": {},
   "outputs": [],
   "source": [
    "s = \"learning Python is very easy\"\n",
    "print(s.startswith('learning'))  # True\n",
    "print(s.endswith('learning'))    # False\n",
    "print(s.endswith('easy'))        # True"
   ]
  },
  {
   "cell_type": "markdown",
   "metadata": {},
   "source": [
    "### **To Check Type of Characters Present in a String:**  \n",
    "1) `isalnum()` → Returns `True` if all characters are alphanumeric (a-z, A-Z, 0-9)  \n",
    "2) `isalpha()` → Returns `True` if all characters are alphabetic  \n",
    "3) `isdigit()` → Returns `True` if all characters are digits  \n",
    "4) `islower()` → Returns `True` if all characters are lower case  \n",
    "5) `isupper()` → Returns `True` if all characters are upper case  \n",
    "6) `istitle()` → Returns `True` if the string is in title case  \n",
    "7) `isspace()` → Returns `True` if the string contains only spaces  "
   ]
  },
  {
   "cell_type": "markdown",
   "metadata": {},
   "source": [
    "**Examples:**  "
   ]
  },
  {
   "cell_type": "code",
   "execution_count": 57,
   "metadata": {},
   "outputs": [
    {
     "name": "stdout",
     "output_type": "stream",
     "text": [
      "True\n",
      "False\n",
      "True\n",
      "False\n",
      "True\n",
      "True\n",
      "False\n",
      "True\n",
      "True\n",
      "False\n",
      "True\n",
      "True\n"
     ]
    }
   ],
   "source": [
    "print('Durga786'.isalnum())        # True\n",
    "print('durga786'.isalpha())        # False\n",
    "print('durga'.isalpha())           # True\n",
    "print('durga'.isdigit())           # False\n",
    "print('786786'.isdigit())          # True\n",
    "print('abc'.islower())             # True\n",
    "print('Abc'.islower())             # False\n",
    "print('abc123'.islower())          # True\n",
    "print('ABC'.isupper())             # True\n",
    "print('Learning python is Easy'.istitle())  # False\n",
    "print('Learning Python Is Easy'.istitle())  # True\n",
    "print('    '.isspace())            # True"
   ]
  },
  {
   "cell_type": "markdown",
   "metadata": {},
   "source": [
    "**Demo Program:**  "
   ]
  },
  {
   "cell_type": "code",
   "execution_count": 59,
   "metadata": {},
   "outputs": [
    {
     "name": "stdout",
     "output_type": "stream",
     "text": [
      "Enter any character: abc\n"
     ]
    },
    {
     "name": "stdout",
     "output_type": "stream",
     "text": [
      "Alpha Numeric Character\n",
      "Alphabet character\n",
      "Lower case alphabet character\n"
     ]
    }
   ],
   "source": [
    "s = input(\"Enter any character:\")\n",
    "if s.isalnum():\n",
    "    print(\"Alpha Numeric Character\")\n",
    "    if s.isalpha():\n",
    "        print(\"Alphabet character\")\n",
    "        if s.islower():\n",
    "            print(\"Lower case alphabet character\")\n",
    "        else:\n",
    "            print(\"Upper case alphabet character\")\n",
    "    else:\n",
    "        print(\"It is a digit\")\n",
    "elif s.isspace():\n",
    "    print(\"It is a space character\")\n",
    "else:\n",
    "    print(\"Non-space special character\")"
   ]
  },
  {
   "cell_type": "markdown",
   "metadata": {},
   "source": [
    "### **Formatting the Strings:**  \n",
    "We can format strings with variable values using the replacement operator `{}` and `format()` method.  \n",
    "\n",
    "**Example:**  "
   ]
  },
  {
   "cell_type": "code",
   "execution_count": 60,
   "metadata": {},
   "outputs": [
    {
     "name": "stdout",
     "output_type": "stream",
     "text": [
      "durga's salary is 10000 and his age is 48\n",
      "durga's salary is 10000 and his age is 48\n",
      "durga's salary is 10000 and his age is 48\n"
     ]
    }
   ],
   "source": [
    "name = 'durga'\n",
    "salary = 10000\n",
    "age = 48\n",
    "print(\"{}'s salary is {} and his age is {}\".format(name, salary, age))\n",
    "print(\"{0}'s salary is {1} and his age is {2}\".format(name, salary, age))\n",
    "print(\"{x}'s salary is {y} and his age is {z}\".format(z=age, y=salary, x=name))"
   ]
  },
  {
   "cell_type": "markdown",
   "metadata": {},
   "source": [
    "### **Important Programs regarding String Concept:**  \n",
    "\n",
    "**Q1) Write a Program to Reverse the Given String**  \n",
    "**Input:** `durga`  \n",
    "**Output:** `agrud`  \n",
    "\n",
    "**1st Way:**  "
   ]
  },
  {
   "cell_type": "code",
   "execution_count": null,
   "metadata": {},
   "outputs": [],
   "source": [
    "s = input(\"Enter Some String:\")\n",
    "print(s[::-1])"
   ]
  },
  {
   "cell_type": "markdown",
   "metadata": {},
   "source": [
    "**2nd Way:**  "
   ]
  },
  {
   "cell_type": "code",
   "execution_count": null,
   "metadata": {},
   "outputs": [],
   "source": [
    "s = input(\"Enter Some String:\")\n",
    "print(''.join(reversed(s)))"
   ]
  },
  {
   "cell_type": "markdown",
   "metadata": {},
   "source": [
    "**3rd Way:**  "
   ]
  },
  {
   "cell_type": "code",
   "execution_count": null,
   "metadata": {},
   "outputs": [],
   "source": [
    "s = input(\"Enter Some String:\")\n",
    "i = len(s) - 1\n",
    "target = ''\n",
    "while i >= 0:\n",
    "    target = target + s[i]\n",
    "    i = i - 1\n",
    "print(target)"
   ]
  },
  {
   "cell_type": "markdown",
   "metadata": {},
   "source": [
    "**Q2) Program to Reverse Order of Words**  \n",
    "**Input:** `Learning Python is very Easy`  \n",
    "**Output:** `Easy Very is Python Learning`  \n",
    "\n",
    "**Program:**  "
   ]
  },
  {
   "cell_type": "markdown",
   "metadata": {},
   "source": [
    "```python"
   ]
  },
  {
   "cell_type": "code",
   "execution_count": null,
   "metadata": {},
   "outputs": [],
   "source": [
    "s = input(\"Enter Some String:\")\n",
    "l = s.split()\n",
    "l1 = []\n",
    "i = len(l) - 1\n",
    "while i >= 0:\n",
    "    l1.append(l[i])\n",
    "    i = i - 1\n",
    "output = ' '.join(l1)\n",
    "print(output)"
   ]
  },
  {
   "cell_type": "markdown",
   "metadata": {},
   "source": [
    "```"
   ]
  },
  {
   "cell_type": "markdown",
   "metadata": {},
   "source": [
    "**Q3) Program to Reverse Internal Content of Each Word**  \n",
    "**Input:** `Durga Software Solutions`  \n",
    "**Output:** `agruD erawtfoS snoituloS`  \n",
    "\n",
    "**Program:**  "
   ]
  },
  {
   "cell_type": "code",
   "execution_count": null,
   "metadata": {},
   "outputs": [],
   "source": [
    "s = input(\"Enter Some String:\")\n",
    "l = s.split()\n",
    "l1 = []\n",
    "i = 0\n",
    "while i < len(l):\n",
    "    l1.append(l[i][::-1])\n",
    "    i = i + 1\n",
    "output = ' '.join(l1)\n",
    "print(output)"
   ]
  },
  {
   "cell_type": "markdown",
   "metadata": {},
   "source": [
    "**Q4) Write a Program to Print Characters at Odd Position and Even Position for a Given String**  "
   ]
  },
  {
   "cell_type": "markdown",
   "metadata": {},
   "source": [
    "**1st Way:**  "
   ]
  },
  {
   "cell_type": "code",
   "execution_count": null,
   "metadata": {},
   "outputs": [],
   "source": [
    "s = input(\"Enter Some String:\")\n",
    "print(\"Characters at Even Position:\", s[0::2])\n",
    "print(\"Characters at Odd Position:\", s[1::2])"
   ]
  },
  {
   "cell_type": "markdown",
   "metadata": {},
   "source": [
    "**2nd Way:**  "
   ]
  },
  {
   "cell_type": "code",
   "execution_count": null,
   "metadata": {},
   "outputs": [],
   "source": [
    "s = input(\"Enter Some String:\")\n",
    "i = 0\n",
    "print(\"Characters at Even Position:\")\n",
    "while i < len(s):\n",
    "    print(s[i], end=',')\n",
    "    i = i + 2\n",
    "print()\n",
    "print(\"Characters at Odd Position:\")\n",
    "i = 1\n",
    "while i < len(s):\n",
    "    print(s[i], end=',')\n",
    "    i = i + 2"
   ]
  },
  {
   "cell_type": "markdown",
   "metadata": {},
   "source": [
    "**Q5) Program to Merge Characters of 2 Strings into a Single String by Taking Characters Alternatively**  \n",
    "**Input:**  \n",
    "`s1 = \"ravi\"`  \n",
    "`s2 = \"reja\"`  \n",
    "**Output:** `rtaevjia`  "
   ]
  },
  {
   "cell_type": "markdown",
   "metadata": {},
   "source": [
    "**Program:**  "
   ]
  },
  {
   "cell_type": "code",
   "execution_count": null,
   "metadata": {},
   "outputs": [],
   "source": [
    "s1 = input(\"Enter First String:\")\n",
    "s2 = input(\"Enter Second String:\")\n",
    "output = ''\n",
    "i, j = 0, 0\n",
    "while i < len(s1) or j < len(s2):\n",
    "    if i < len(s1):\n",
    "        output = output + s1[i]\n",
    "        i += 1\n",
    "    if j < len(s2):\n",
    "        output = output + s2[j]\n",
    "        j += 1\n",
    "print(output)"
   ]
  },
  {
   "cell_type": "markdown",
   "metadata": {},
   "source": [
    "### **Q6) Write a Program to Sort the Characters of the String and First Alphabet Symbols followed by Numeric Values**  \n",
    "**Input:** B4A1D3  \n",
    "**Output:** ABD134  "
   ]
  },
  {
   "cell_type": "code",
   "execution_count": 1,
   "metadata": {},
   "outputs": [
    {
     "name": "stdout",
     "output_type": "stream",
     "text": [
      "Enter Some String: a4b3c2\n"
     ]
    },
    {
     "name": "stdout",
     "output_type": "stream",
     "text": [
      "abc234\n"
     ]
    }
   ],
   "source": [
    "s = input(\"Enter Some String:\")  \n",
    "s1 = s2 = output = ''  \n",
    "for x in s:  \n",
    "    if x.isalpha():  \n",
    "        s1 = s1 + x  \n",
    "    else:  \n",
    "        s2 = s2 + x  \n",
    "for x in sorted(s1):  \n",
    "    output = output + x  \n",
    "for x in sorted(s2):  \n",
    "    output = output + x  \n",
    "print(output)"
   ]
  },
  {
   "cell_type": "markdown",
   "metadata": {},
   "source": [
    "### **Q7) Write a Program for the following Requirement**  \n",
    "**Input:** a4b3c2  \n",
    "**Output:** aaaabbbcc  "
   ]
  },
  {
   "cell_type": "code",
   "execution_count": 2,
   "metadata": {},
   "outputs": [
    {
     "name": "stdout",
     "output_type": "stream",
     "text": [
      "Enter Some String: a4b3c2\n"
     ]
    },
    {
     "name": "stdout",
     "output_type": "stream",
     "text": [
      "aaaabbbcc\n"
     ]
    }
   ],
   "source": [
    "s = input(\"Enter Some String:\")  \n",
    "output = ''  \n",
    "for x in s:  \n",
    "    if x.isalpha():  \n",
    "        output = output + x  \n",
    "        previous = x  \n",
    "    else:  \n",
    "        output = output + previous * (int(x) - 1)  \n",
    "print(output)"
   ]
  },
  {
   "cell_type": "markdown",
   "metadata": {},
   "source": [
    "### **Q8) Write a Program to perform the following Activity**  \n",
    "**Input:** a4k3b2  \n",
    "**Output:** aeknbd  "
   ]
  },
  {
   "cell_type": "code",
   "execution_count": null,
   "metadata": {},
   "outputs": [],
   "source": [
    "s = input(\"Enter Some String:\")  \n",
    "output = ''  \n",
    "for x in s:  \n",
    "    if x.isalpha():  \n",
    "        output = output + x  \n",
    "        previous = x  \n",
    "    else:  \n",
    "        output = output + chr(ord(previous) + int(x))  \n",
    "print(output)"
   ]
  },
  {
   "cell_type": "markdown",
   "metadata": {},
   "source": [
    "### **Q9) Write a Program to Remove Duplicate Characters from the given Input String?**  \n",
    "**Input:** ABCDABBCDABBBCCCDDEEEF  \n",
    "**Output:** ABCDEF  "
   ]
  },
  {
   "cell_type": "code",
   "execution_count": null,
   "metadata": {},
   "outputs": [],
   "source": [
    "s = input(\"Enter Some String:\")  \n",
    "l = []  \n",
    "for x in s:  \n",
    "    if x not in l:  \n",
    "        l.append(x)  \n",
    "output = ''.join(l)  \n",
    "print(output)"
   ]
  },
  {
   "cell_type": "markdown",
   "metadata": {},
   "source": [
    "### **Q10) Write a Program to find the Number of Occurrences of each Character present in the given String?**  \n",
    "**Input:** ABCABCABBCDE  \n",
    "**Output:** A-3, B-4, C-3, D-1, E-1  "
   ]
  },
  {
   "cell_type": "code",
   "execution_count": null,
   "metadata": {},
   "outputs": [],
   "source": [
    "s = input(\"Enter the Some String:\")  \n",
    "d = {}  \n",
    "for x in s:  \n",
    "    if x in d.keys():  \n",
    "        d[x] = d[x] + 1  \n",
    "    else:  \n",
    "        d[x] = 1  \n",
    "for k, v in d.items():  \n",
    "    print(\"{} = {} Times\".format(k, v))"
   ]
  },
  {
   "cell_type": "markdown",
   "metadata": {},
   "source": [
    "### **Q11) Write a Program to perform the following Task?**  \n",
    "**Input:** 'one two three four five six seven'  \n",
    "**Output:** 'one owt three ruof five xis seven'  "
   ]
  },
  {
   "cell_type": "code",
   "execution_count": null,
   "metadata": {},
   "outputs": [],
   "source": [
    "s = input('Enter Some String:')  \n",
    "l = s.split()  \n",
    "l1 = []  \n",
    "i = 0  \n",
    "while i < len(l):  \n",
    "    if i % 2 == 0:  \n",
    "        l1.append(l[i])  \n",
    "    else:  \n",
    "        l1.append(l[i][::-1])  \n",
    "    i = i + 1  \n",
    "output = ' '.join(l1)  \n",
    "print('Original String:', s)  \n",
    "print('output String:', output)"
   ]
  },
  {
   "cell_type": "markdown",
   "metadata": {},
   "source": [
    "### **Formatting the Strings:**\n",
    "\n",
    "- We can format the strings with variable values by using replacement operator `{}` and the `format()` method.  \n",
    "- The main objective of the `format()` method is to format the string into a meaningful output form."
   ]
  },
  {
   "cell_type": "markdown",
   "metadata": {},
   "source": [
    "### **Case- 1: Basic formatting for default, positional, and keyword arguments**"
   ]
  },
  {
   "cell_type": "code",
   "execution_count": 3,
   "metadata": {},
   "outputs": [
    {
     "name": "stdout",
     "output_type": "stream",
     "text": [
      "durga 's salary is 10000 and his age is 48\n",
      "durga 's salary is 10000 and his age is 48\n",
      "durga 's salary is 10000 and his age is 48\n"
     ]
    }
   ],
   "source": [
    "name = 'durga'  \n",
    "salary = 10000  \n",
    "age = 48  \n",
    "\n",
    "print(\"{} 's salary is {} and his age is {}\".format(name, salary, age))  \n",
    "print(\"{0} 's salary is {1} and his age is {2}\".format(name, salary, age))  \n",
    "print(\"{x} 's salary is {y} and his age is {z}\".format(z=age, y=salary, x=name))"
   ]
  },
  {
   "cell_type": "markdown",
   "metadata": {},
   "source": [
    "### **Case- 2: Formatting Numbers**\n",
    "\n",
    "- **d** → Decimal Integer  \n",
    "- **f** → Fixed-point number (float). The default precision is 6  \n",
    "- **b** → Binary format  \n",
    "- **o** → Octal Format  \n",
    "- **x** → Hexadecimal Format (Lowercase)  \n",
    "- **X** → Hexadecimal Format (Uppercase)"
   ]
  },
  {
   "cell_type": "markdown",
   "metadata": {},
   "source": [
    "#### **Eg-1: Decimal Integer Formatting**"
   ]
  },
  {
   "cell_type": "code",
   "execution_count": 4,
   "metadata": {},
   "outputs": [
    {
     "name": "stdout",
     "output_type": "stream",
     "text": [
      "The integer number is: 123\n",
      "The integer number is: 123\n",
      "The integer number is:   123\n",
      "The integer number is: 00123\n"
     ]
    }
   ],
   "source": [
    "print(\"The integer number is: {}\".format(123))  \n",
    "print(\"The integer number is: {:d}\".format(123))  \n",
    "print(\"The integer number is: {:5d}\".format(123))  \n",
    "print(\"The integer number is: {:05d}\".format(123))"
   ]
  },
  {
   "cell_type": "markdown",
   "metadata": {},
   "source": [
    "#### **Eg-2: Floating Point Number Formatting**"
   ]
  },
  {
   "cell_type": "code",
   "execution_count": 7,
   "metadata": {},
   "outputs": [
    {
     "name": "stdout",
     "output_type": "stream",
     "text": [
      "The float number is: 123.4567\n",
      "The float number is: 123.456700\n",
      "The float number is:  123.457\n",
      "The float number is: 0123.457\n",
      "The float number is: 0123.450\n",
      "The float number is: 786786123.450\n"
     ]
    }
   ],
   "source": [
    "print(\"The float number is: {}\".format(123.4567))  \n",
    "print(\"The float number is: {:f}\".format(123.4567))  \n",
    "print(\"The float number is: {:8.3f}\".format(123.4567))  \n",
    "print(\"The float number is: {:08.3f}\".format(123.4567))  \n",
    "print(\"The float number is: {:08.3f}\".format(123.45))  \n",
    "print(\"The float number is: {:08.3f}\".format(786786123.45))"
   ]
  },
  {
   "cell_type": "markdown",
   "metadata": {},
   "source": [
    "**Note:**\n",
    "- `{:08.3f}`  \n",
    "  - Total positions should be a minimum of 8.  \n",
    "  - After the decimal point, exactly 3 digits are allowed. If it's less, zeros will be placed in the last positions.  \n",
    "  - If the total number is < 8 positions, zeros will be placed in MSBs.  \n",
    "  - If the total number is > 8 positions, all integral digits will be considered.  \n",
    "  - The extra digits can only be zeros."
   ]
  },
  {
   "cell_type": "markdown",
   "metadata": {},
   "source": [
    "#### **Eg-3: Print Decimal value in binary, octal, and hexadecimal form**"
   ]
  },
  {
   "cell_type": "code",
   "execution_count": 8,
   "metadata": {},
   "outputs": [
    {
     "name": "stdout",
     "output_type": "stream",
     "text": [
      "Binary Form:10011001\n",
      "Octal Form:231\n",
      "Hexadecimal Form:9a\n",
      "Hexadecimal Form:9A\n"
     ]
    }
   ],
   "source": [
    "print(\"Binary Form:{0:b}\".format(153))  \n",
    "print(\"Octal Form:{0:o}\".format(153))  \n",
    "print(\"Hexadecimal Form:{0:x}\".format(154))  \n",
    "print(\"Hexadecimal Form:{0:X}\".format(154))"
   ]
  },
  {
   "cell_type": "markdown",
   "metadata": {},
   "source": [
    "**Note:**  \n",
    "- We can represent only integer values in binary, octal, and hexadecimal formats. It is not possible for float values."
   ]
  },
  {
   "cell_type": "markdown",
   "metadata": {},
   "source": [
    "### **Note:**\n",
    "1) `{:5d}` It takes an integer argument and assigns a minimum width of 5.  \n",
    "2) `{:8.3f}` It takes a float argument and assigns a minimum width of 8, including the decimal point. After the decimal point, exactly 3 digits are allowed with rounding if required.  \n",
    "3) `{:05d}` The blank places can be filled with 0. In this case, only `0` is allowed.\n",
    "\n",
    "\n",
    "### **Case-3: Number formatting for signed numbers**\n",
    "\n",
    "-  While displaying positive numbers, if we want to include a `+`, we have to write `{:+d}` and `{:+f}`.  \n",
    "- Using the plus sign for negative numbers is unnecessary because a negative sign (`-`) will appear automatically for negative values."
   ]
  },
  {
   "cell_type": "code",
   "execution_count": 9,
   "metadata": {},
   "outputs": [
    {
     "name": "stdout",
     "output_type": "stream",
     "text": [
      "int value with sign:+123\n",
      "int value with sign:-123\n",
      "float value with sign:+123.456000\n",
      "float value with sign:-123.456000\n"
     ]
    }
   ],
   "source": [
    "print(\"int value with sign:{:+d}\".format(123))  \n",
    "print(\"int value with sign:{:+d}\".format(-123))  \n",
    "print(\"float value with sign:{:+f}\".format(123.456))  \n",
    "print(\"float value with sign:{:+f}\".format(-123.456))"
   ]
  },
  {
   "cell_type": "markdown",
   "metadata": {},
   "source": [
    "### **Case-4: Number formatting with alignment**\n",
    "\n",
    "-  `<`, `>`, `^`, and `=` are used for alignment.  \n",
    "- `<` → Left Alignment to the remaining space  \n",
    "- `^` → Center alignment to the remaining space  \n",
    "- `>` → Right alignment to the remaining space  \n",
    "- `=` → Forces the signed (+ or -) to the leftmost position  \n",
    "\n",
    "**Note:** The default alignment for numbers is **right alignment**."
   ]
  },
  {
   "cell_type": "code",
   "execution_count": 10,
   "metadata": {},
   "outputs": [
    {
     "name": "stdout",
     "output_type": "stream",
     "text": [
      "   12\n",
      "12   \n",
      "12000\n",
      "   12\n",
      "00012\n",
      " 12  \n",
      "-  12\n",
      "  12.235  \n",
      "- 12.235\n"
     ]
    }
   ],
   "source": [
    "print(\"{:5d}\".format(12))  \n",
    "print(\"{:<5d}\".format(12))  \n",
    "print(\"{:<05d}\".format(12))  \n",
    "print(\"{:>5d}\".format(12))  \n",
    "print(\"{:>05d}\".format(12))  \n",
    "print(\"{:^5d}\".format(12))  \n",
    "print(\"{:=5d}\".format(-12))  \n",
    "print(\"{:^10.3f}\".format(12.23456))  \n",
    "print(\"{:=8.3f}\".format(-12.23456))"
   ]
  },
  {
   "cell_type": "markdown",
   "metadata": {},
   "source": [
    "### **Case-5: String formatting with format()**\n",
    "\n",
    "Similar to numbers, we can format string values also using the `format()` method."
   ]
  },
  {
   "cell_type": "code",
   "execution_count": 13,
   "metadata": {},
   "outputs": [
    {
     "name": "stdout",
     "output_type": "stream",
     "text": [
      "   12\n",
      "rat  \n",
      "  rat\n",
      "rat  \n",
      " rat \n",
      "*rat*\n"
     ]
    }
   ],
   "source": [
    "print(\"{:5d}\".format(12))  \n",
    "print(\"{:5}\".format(\"rat\"))  \n",
    "print(\"{:>5}\".format(\"rat\"))  \n",
    "print(\"{:<5}\".format(\"rat\"))  \n",
    "print(\"{:^5}\".format(\"rat\"))  \n",
    "print(\"{:*^5}\".format(\"rat\"))  # Instead of '*' we can use any character (like +, $, a, etc.)"
   ]
  },
  {
   "cell_type": "markdown",
   "metadata": {},
   "source": [
    "**Note:** For numbers, the default alignment is right, whereas for strings, the default alignment is left.\n",
    "\n",
    "### **Case-6: Truncating Strings with format() method**"
   ]
  },
  {
   "cell_type": "code",
   "execution_count": 20,
   "metadata": {},
   "outputs": [
    {
     "name": "stdout",
     "output_type": "stream",
     "text": [
      "dur\n",
      "dur  \n",
      "  dur\n",
      " dur \n",
      "*dur*\n"
     ]
    }
   ],
   "source": [
    "print(\"{:.3}\".format(\"durgasoftware\"))  \n",
    "print(\"{:5.3}\".format(\"durgasoftware\"))  \n",
    "print(\"{:>5.3}\".format(\"durgasoftware\"))  \n",
    "print(\"{:^5.3}\".format(\"durgasoftware\"))  \n",
    "print(\"{:*^5.3}\".format(\"durgasoftware\"))"
   ]
  },
  {
   "cell_type": "markdown",
   "metadata": {},
   "source": [
    "### **Case-7: Formatting dictionary members using format()**"
   ]
  },
  {
   "cell_type": "code",
   "execution_count": 21,
   "metadata": {},
   "outputs": [
    {
     "name": "stdout",
     "output_type": "stream",
     "text": [
      "durga's age is: 48\n"
     ]
    }
   ],
   "source": [
    "person = {'age': 48, 'name': 'durga'}  \n",
    "print(\"{p[name]}'s age is: {p[age]}\".format(p=person))"
   ]
  },
  {
   "cell_type": "markdown",
   "metadata": {},
   "source": [
    "**Note:**  \n",
    "- `p` is the alias name of the dictionary `person`. The dictionary is passed as a keyword argument.\n",
    "\n",
    "More convenient way is to use **person** directly:"
   ]
  },
  {
   "cell_type": "code",
   "execution_count": 22,
   "metadata": {},
   "outputs": [
    {
     "name": "stdout",
     "output_type": "stream",
     "text": [
      "durga's age is: 48\n"
     ]
    }
   ],
   "source": [
    "person = {'age': 48, 'name': 'durga'}  \n",
    "print(\"{name}'s age is: {age}\".format(**person))"
   ]
  },
  {
   "cell_type": "markdown",
   "metadata": {},
   "source": [
    "### **Case-8: Formatting class members using format()**"
   ]
  },
  {
   "cell_type": "code",
   "execution_count": 31,
   "metadata": {},
   "outputs": [
    {
     "name": "stdout",
     "output_type": "stream",
     "text": [
      "durga's age is :48\n"
     ]
    }
   ],
   "source": [
    "# Example 1: Class-level attributes (no constructor)\n",
    "class Person:\n",
    "    # Class-level attributes\n",
    "    age = 48\n",
    "    name = \"durga\"\n",
    "\n",
    "# Creating an instance of Person class\n",
    "person_instance = Person()\n",
    "\n",
    "# Using the format method to display name and age\n",
    "print(\"{p.name}'s age is :{p.age}\".format(p=person_instance))\n"
   ]
  },
  {
   "cell_type": "code",
   "execution_count": 32,
   "metadata": {},
   "outputs": [
    {
     "name": "stdout",
     "output_type": "stream",
     "text": [
      "durga's age is :48\n",
      "Ravi's age is :50\n"
     ]
    }
   ],
   "source": [
    "# Example 2: Using a constructor (instance-level attributes)\n",
    "class Person:\n",
    "    def __init__(self, name, age):\n",
    "        # Instance-level attributes\n",
    "        self.name = name\n",
    "        self.age = age\n",
    "\n",
    "# Creating instances of the Person class\n",
    "person_1 = Person('durga', 48)\n",
    "person_2 = Person('Ravi', 50)\n",
    "\n",
    "# Using the format method to display name and age\n",
    "print(\"{p.name}'s age is :{p.age}\".format(p=person_1))\n",
    "print(\"{p.name}'s age is :{p.age}\".format(p=person_2))\n"
   ]
  },
  {
   "cell_type": "markdown",
   "metadata": {},
   "source": [
    "### **Case-9: Dynamic Formatting using format()**"
   ]
  },
  {
   "cell_type": "code",
   "execution_count": 33,
   "metadata": {},
   "outputs": [
    {
     "name": "stdout",
     "output_type": "stream",
     "text": [
      "*cat*\n",
      "*cat**\n",
      "cat***\n",
      "***cat\n"
     ]
    }
   ],
   "source": [
    "string = \"{:{fill}{align}{width}}\"  \n",
    "print(string.format('cat', fill='*', align='^', width=5))  \n",
    "print(string.format('cat', fill='*', align='^', width=6))  \n",
    "print(string.format('cat', fill='*', align='<', width=6))  \n",
    "print(string.format('cat', fill='*', align='>', width=6))  "
   ]
  },
  {
   "cell_type": "markdown",
   "metadata": {},
   "source": [
    "### **Case-10: Dynamic Float format template**"
   ]
  },
  {
   "cell_type": "code",
   "execution_count": 34,
   "metadata": {},
   "outputs": [
    {
     "name": "stdout",
     "output_type": "stream",
     "text": [
      "123.24  \n",
      "  123.24\n"
     ]
    }
   ],
   "source": [
    "num = \"{:{align}{width}.{precision}f}\"  \n",
    "print(num.format(123.236, align='<', width=8, precision=2))  \n",
    "print(num.format(123.236, align='>', width=8, precision=2))"
   ]
  },
  {
   "cell_type": "markdown",
   "metadata": {},
   "source": [
    "### **Case-11: Formatting Date values**"
   ]
  },
  {
   "cell_type": "code",
   "execution_count": 35,
   "metadata": {},
   "outputs": [
    {
     "name": "stdout",
     "output_type": "stream",
     "text": [
      "It's now:02/01/2025  22:56:03\n"
     ]
    }
   ],
   "source": [
    "import datetime  \n",
    "date = datetime.datetime.now()  \n",
    "print(\"It's now:{:%d/%m/%Y  %H:%M:%S}\".format(date))"
   ]
  },
  {
   "cell_type": "markdown",
   "metadata": {},
   "source": [
    "### **Case-12: Formatting complex numbers**"
   ]
  },
  {
   "cell_type": "code",
   "execution_count": 36,
   "metadata": {},
   "outputs": [
    {
     "name": "stdout",
     "output_type": "stream",
     "text": [
      "Real Part:1.0 and Imaginary Part:2.0\n"
     ]
    }
   ],
   "source": [
    "complexNumber = 1 + 2j  \n",
    "print(\"Real Part:{0.real} and Imaginary Part:{0.imag}\".format(complexNumber))"
   ]
  },
  {
   "cell_type": "code",
   "execution_count": null,
   "metadata": {},
   "outputs": [],
   "source": [
    "s = \"Python is a nursery level language\""
   ]
  },
  {
   "cell_type": "code",
   "execution_count": 1,
   "metadata": {},
   "outputs": [
    {
     "name": "stdout",
     "output_type": "stream",
     "text": [
      "Given string is not a palindrome\n"
     ]
    }
   ],
   "source": [
    "str = input(\"Enter the string : \")\n",
    "reversed_str = str[::-1]\n",
    "if str != reversed_str:\n",
    "    print(\"Given string is not a palindrome\")\n",
    "else:\n",
    "    print(\"Given string is palindrome\")"
   ]
  },
  {
   "cell_type": "code",
   "execution_count": null,
   "metadata": {},
   "outputs": [],
   "source": [
    "str = input(\"Enter the string: \")\n",
    "is_palindrome = True\n",
    "for i in range(len(str) // 2):\n",
    "    if str[i] != str[-(i + 1)]:\n",
    "        is_palindrome = False\n",
    "        break\n",
    "\n",
    "if is_palindrome:\n",
    "    print(\"Given string is a palindrome\")\n",
    "else:\n",
    "    print(\"Given string is not a palindrome\")"
   ]
  },
  {
   "cell_type": "code",
   "execution_count": null,
   "metadata": {},
   "outputs": [],
   "source": [
    "def is_palindrome_recursive(s):\n",
    "    if len(s) <= 1:\n",
    "        return True\n",
    "    elif s[0] == s[-1]:\n",
    "        return is_palindrome_recursive(s[1:-1])\n",
    "    else:\n",
    "        return False\n",
    "\n",
    "str = input(\"Enter the string: \")\n",
    "if is_palindrome_recursive(str):\n",
    "    print(\"Given string is a palindrome\")\n",
    "else:\n",
    "    print(\"Given string is not a palindrome\")\n",
    "\n",
    "\n",
    "''' \n",
    "is_palindrome_recursive(\"racecar\")\n",
    "    |\n",
    "    |-- len(\"racecar\") > 1 -> True\n",
    "    |-- \"racecar\"[0] == \"racecar\"[-1] -> 'r' == 'r' -> True\n",
    "    |-- is_palindrome_recursive(\"aceca\")\n",
    "        |\n",
    "        |-- len(\"aceca\") > 1 -> True\n",
    "        |-- \"aceca\"[0] == \"aceca\"[-1] -> 'a' == 'a' -> True\n",
    "        |-- is_palindrome_recursive(\"cec\")\n",
    "            |\n",
    "            |-- len(\"cec\") > 1 -> True\n",
    "            |-- \"cec\"[0] == \"cec\"[-1] -> 'c' == 'c' -> True\n",
    "            |-- is_palindrome_recursive(\"e\")\n",
    "                |\n",
    "                |-- len(\"e\") <= 1 -> True\n",
    "                |-- Return True\n",
    "            |\n",
    "            |-- Return True\n",
    "        |\n",
    "        |-- Return True\n",
    "    |\n",
    "    |-- Return True\n",
    "|\n",
    "|-- Return True\n",
    "'''"
   ]
  },
  {
   "cell_type": "code",
   "execution_count": null,
   "metadata": {},
   "outputs": [],
   "source": [
    "str = input(\"Enter the string: \")\n",
    "if str == ''.join(reversed(str)):\n",
    "    print(\"Given string is a palindrome\")\n",
    "else:\n",
    "    print(\"Given string is not a palindrome\")"
   ]
  },
  {
   "cell_type": "code",
   "execution_count": 2,
   "metadata": {},
   "outputs": [
    {
     "name": "stdout",
     "output_type": "stream",
     "text": [
      "The simple interest is: 204.0\n"
     ]
    }
   ],
   "source": [
    "def get_float_input(prompt):\n",
    "\twhile True:\n",
    "\t\ttry:\n",
    "\t\t\tvalue = float(input(prompt))\n",
    "\t\t\tif value < 0:\n",
    "\t\t\t\traise ValueError(\"The value must be non-negative.\")\n",
    "\t\t\treturn value\n",
    "\t\texcept ValueError as e:\n",
    "\t\t\tprint(f\"Invalid input: {e}. Please enter a valid number.\")\n",
    "\n",
    "principal = get_float_input(\"Enter the principal amount: \")\n",
    "rate = get_float_input(\"Enter the rate of interest: \")\n",
    "time = get_float_input(\"Enter the time period in years: \")\n",
    "\n",
    "simple_interest = (principal * rate * time) / 100\n",
    "\n",
    "print(f\"The simple interest is: {simple_interest}\")"
   ]
  },
  {
   "cell_type": "code",
   "execution_count": 3,
   "metadata": {},
   "outputs": [
    {
     "name": "stdout",
     "output_type": "stream",
     "text": [
      "The simple interest is: 30000.0\n"
     ]
    }
   ],
   "source": [
    "principal=50000\n",
    "rate=15\n",
    "time=4\n",
    "simple_interest = (principal * rate * time) / 100\n",
    "print(f\"The simple interest is: {simple_interest}\")\n"
   ]
  },
  {
   "cell_type": "code",
   "execution_count": 5,
   "metadata": {},
   "outputs": [
    {
     "name": "stdout",
     "output_type": "stream",
     "text": [
      "PYTHON IS A NURSERY LEVEL LANGUAGE"
     ]
    }
   ],
   "source": [
    "s = \"Python is a nursery level language\"\n",
    "for char in s:\n",
    "    print(char.upper(), end='')\n",
    "    "
   ]
  },
  {
   "cell_type": "code",
   "execution_count": 8,
   "metadata": {},
   "outputs": [
    {
     "name": "stdout",
     "output_type": "stream",
     "text": [
      "120\n"
     ]
    }
   ],
   "source": [
    "n=5\n",
    "fact=1\n",
    "for i in range(1,n+1):\n",
    "    fact = fact*i\n",
    "\n",
    "print(fact)"
   ]
  },
  {
   "cell_type": "code",
   "execution_count": 9,
   "metadata": {},
   "outputs": [
    {
     "name": "stdout",
     "output_type": "stream",
     "text": [
      "Prime numbers up to 100 are: [2, 3, 5, 7, 11, 13, 17, 19, 23, 29, 31, 37, 41, 43, 47, 53, 59, 61, 67, 71, 73, 79, 83, 89, 97]\n"
     ]
    }
   ],
   "source": [
    "def is_prime(num):\n",
    "    if num <= 1:\n",
    "        return False\n",
    "    for i in range(2, int(num**0.5) + 1):\n",
    "        if num % i == 0:\n",
    "            return False\n",
    "    return True\n",
    "\n",
    "limit = 100  \n",
    "# prime_numbers = [num for num in range(2, limit + 1) if is_prime(num)]\n",
    "prime_numbers = []\n",
    "for num in range(2, limit + 1):\n",
    "    if is_prime(num):\n",
    "        prime_numbers.append(num)\n",
    "\n",
    "print(\"Prime numbers up to\", limit, \"are:\", prime_numbers)"
   ]
  },
  {
   "cell_type": "code",
   "execution_count": 12,
   "metadata": {},
   "outputs": [
    {
     "name": "stdout",
     "output_type": "stream",
     "text": [
      "1\n",
      "2\n",
      "9\n",
      "4\n",
      "25\n",
      "6\n",
      "49\n",
      "8\n",
      "81\n",
      "10\n"
     ]
    }
   ],
   "source": [
    "# n=10\n",
    "# if num is even print as it is \n",
    "# if number is odd calculate squre \n",
    "\n",
    "for i in range(1,11):\n",
    "    if(i%2==0):\n",
    "        print(i)\n",
    "    else:\n",
    "        print(i**2)        "
   ]
  },
  {
   "cell_type": "code",
   "execution_count": 3,
   "metadata": {},
   "outputs": [
    {
     "name": "stdout",
     "output_type": "stream",
     "text": [
      "current number: 1, product of numbers: 1\n",
      "current number: 2, product of numbers: 2\n",
      "current number: 3, product of numbers: 6\n",
      "current number: 4, product of numbers: 24\n"
     ]
    }
   ],
   "source": [
    "res = 1\n",
    "prod=1\n",
    "while res <= 5:\n",
    "    print(f\"current number: {res}, product of numbers: {prod}\")\n",
    "    res+=1\n",
    "    prod=prod*res"
   ]
  },
  {
   "cell_type": "code",
   "execution_count": 2,
   "metadata": {},
   "outputs": [
    {
     "name": "stdout",
     "output_type": "stream",
     "text": [
      "1 is odd\n",
      "2 is even\n",
      "3 is odd\n",
      "4 is even\n",
      "5 is odd\n",
      "6 is even\n",
      "7 is odd\n",
      "8 is even\n",
      "9 is odd\n",
      "10 is even\n"
     ]
    }
   ],
   "source": [
    "list = [1,2,3,4,5,6,7,8,9,10]\n",
    "\n",
    "for i in list:\n",
    "    if i % 2 == 0:\n",
    "        print(f\"{i} is even\")\n",
    "    else:        \n",
    "        print(f\"{i} is odd\")"
   ]
  },
  {
   "cell_type": "code",
   "execution_count": 4,
   "metadata": {},
   "outputs": [
    {
     "name": "stdout",
     "output_type": "stream",
     "text": [
      "0 index contain character: a\n",
      "1 index contain character: b\n",
      "2 index contain character: c\n",
      "3 index contain character: d\n",
      "4 index contain character: e\n",
      "5 index contain character: f\n"
     ]
    }
   ],
   "source": [
    "l = ['a', 'b', 'c', 'd', 'e', 'f']\n",
    "\n",
    "for i in range(len(l)):\n",
    "    print(f\"{i} index contain character: {l[i]}\")"
   ]
  },
  {
   "cell_type": "code",
   "execution_count": null,
   "metadata": {},
   "outputs": [],
   "source": []
  }
 ],
 "metadata": {
  "kernelspec": {
   "display_name": "Python 3",
   "language": "python",
   "name": "python3"
  },
  "language_info": {
   "codemirror_mode": {
    "name": "ipython",
    "version": 3
   },
   "file_extension": ".py",
   "mimetype": "text/x-python",
   "name": "python",
   "nbconvert_exporter": "python",
   "pygments_lexer": "ipython3",
   "version": "3.10.9"
  }
 },
 "nbformat": 4,
 "nbformat_minor": 4
}
